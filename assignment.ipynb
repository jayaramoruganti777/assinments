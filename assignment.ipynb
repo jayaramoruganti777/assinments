{
 "cells": [
  {
   "cell_type": "code",
   "execution_count": 20,
   "metadata": {},
   "outputs": [
    {
     "name": "stdout",
     "output_type": "stream",
     "text": [
      "1\n",
      "2\n",
      "dog\n",
      "4\n",
      "cat\n",
      "dog\n",
      "7\n",
      "8\n",
      "dog\n",
      "cat\n",
      "11\n",
      "dog\n",
      "13\n",
      "14\n",
      "dogcat\n",
      "16\n",
      "17\n",
      "dog\n",
      "19\n",
      "cat\n",
      "dog\n",
      "22\n",
      "23\n",
      "dog\n",
      "cat\n",
      "26\n",
      "dog\n",
      "28\n",
      "29\n",
      "dogcat\n",
      "31\n",
      "32\n",
      "dog\n",
      "34\n",
      "cat\n",
      "dog\n",
      "37\n",
      "38\n",
      "dog\n",
      "cat\n",
      "41\n",
      "dog\n",
      "43\n",
      "44\n",
      "dogcat\n",
      "46\n",
      "47\n",
      "dog\n",
      "49\n",
      "cat\n",
      "dog\n",
      "52\n",
      "53\n",
      "dog\n",
      "cat\n",
      "56\n",
      "dog\n",
      "58\n",
      "59\n",
      "dogcat\n",
      "61\n",
      "62\n",
      "dog\n",
      "64\n",
      "cat\n",
      "dog\n",
      "67\n",
      "68\n",
      "dog\n",
      "cat\n",
      "71\n",
      "dog\n",
      "73\n",
      "74\n",
      "dogcat\n",
      "76\n",
      "77\n",
      "dog\n",
      "79\n",
      "cat\n",
      "dog\n",
      "82\n",
      "83\n",
      "dog\n",
      "cat\n",
      "86\n",
      "dog\n",
      "88\n",
      "89\n",
      "dogcat\n",
      "91\n",
      "92\n",
      "dog\n",
      "94\n",
      "cat\n",
      "dog\n",
      "97\n",
      "98\n",
      "dog\n"
     ]
    }
   ],
   "source": [
    "i = 1\n",
    "while i<100 :\n",
    "    if ( i%3==0 and i%5==0 ):\n",
    "        print(\"dogcat\")\n",
    "    elif ( i%3==0 ):\n",
    "        print(\"dog\")\n",
    "    elif ( i%5==0 ):\n",
    "        print(\"cat\")\n",
    "    else:\n",
    "        print(i)\n",
    "    i+=1\n",
    "    \n",
    "    "
   ]
  },
  {
   "cell_type": "code",
   "execution_count": 36,
   "metadata": {},
   "outputs": [
    {
     "name": "stdout",
     "output_type": "stream",
     "text": [
      "your guess: 5\n",
      "random number: 90\n",
      "cold\n"
     ]
    }
   ],
   "source": [
    "import random\n",
    "a=int(input(\"your guess: \"))\n",
    "num=random.randint(1,100)\n",
    "print(\"random number:\",num)\n",
    "if a<1 or a>100 :\n",
    "    print(\"out of bounds\")\n",
    "elif (a>=num-10 and a<=num+10):\n",
    "        print(\"warm\")\n",
    "else:\n",
    "        print(\"cold\")"
   ]
  },
  {
   "cell_type": "code",
   "execution_count": 47,
   "metadata": {},
   "outputs": [],
   "source": [
    "class bank():\n",
    "    def __init__(self,owner,balance=0):\n",
    "        self.owner = owner   \n",
    "        self.balance = balance\n",
    "        \n",
    "    def deposit(self,balance):\n",
    "        self.balance += balance\n",
    "        return self.balance\n",
    "    \n",
    "    def withdraw(self,balance):\n",
    "        if self.balance>=balance:\n",
    "            self.balance -= balance\n",
    "        else:   \n",
    "            return \"Not possible only \" + str(self.balance) + \" is available\"\n",
    "       \n",
    "        return self.balance"
   ]
  },
  {
   "cell_type": "code",
   "execution_count": 48,
   "metadata": {},
   "outputs": [],
   "source": [
    "account1=bank('account1',1000)"
   ]
  },
  {
   "cell_type": "code",
   "execution_count": 49,
   "metadata": {},
   "outputs": [
    {
     "data": {
      "text/plain": [
       "8888"
      ]
     },
     "execution_count": 49,
     "metadata": {},
     "output_type": "execute_result"
    }
   ],
   "source": [
    "account1.deposit(7888)"
   ]
  },
  {
   "cell_type": "code",
   "execution_count": 50,
   "metadata": {},
   "outputs": [
    {
     "data": {
      "text/plain": [
       "8088"
      ]
     },
     "execution_count": 50,
     "metadata": {},
     "output_type": "execute_result"
    }
   ],
   "source": [
    "account1.withdraw(800)"
   ]
  },
  {
   "cell_type": "code",
   "execution_count": 51,
   "metadata": {},
   "outputs": [
    {
     "data": {
      "text/plain": [
       "'Not possible only 8088 is available'"
      ]
     },
     "execution_count": 51,
     "metadata": {},
     "output_type": "execute_result"
    }
   ],
   "source": [
    "account1.withdraw(2364283)"
   ]
  },
  {
   "cell_type": "code",
   "execution_count": 79,
   "metadata": {},
   "outputs": [],
   "source": [
    "import math\n",
    "class Cone():\n",
    "   \n",
    "    def __init__(self,radius=0,height=0):\n",
    "        self.radius = radius\n",
    "        self.height = height\n",
    "        \n",
    "    def getVolume(self):\n",
    "        self.volume = math.pi * self.radius * self.radius *(self.height/3)\n",
    "        return self.volume\n",
    "    def getSurfaceArea(self):\n",
    "        self.area = math.pi * self.radius * self.radius + math.pi * self.radius * math.sqrt(self.radius*self.radius + self.height * self.height)\n",
    "        return self.area\n",
    "        "
   ]
  },
  {
   "cell_type": "code",
   "execution_count": 80,
   "metadata": {},
   "outputs": [],
   "source": [
    "ram=Cone(4,5)"
   ]
  },
  {
   "cell_type": "code",
   "execution_count": 81,
   "metadata": {},
   "outputs": [
    {
     "data": {
      "text/plain": [
       "83.77580409572782"
      ]
     },
     "execution_count": 81,
     "metadata": {},
     "output_type": "execute_result"
    }
   ],
   "source": [
    "ram.getVolume()"
   ]
  },
  {
   "cell_type": "code",
   "execution_count": 82,
   "metadata": {},
   "outputs": [
    {
     "data": {
      "text/plain": [
       "130.72951471480383"
      ]
     },
     "execution_count": 82,
     "metadata": {},
     "output_type": "execute_result"
    }
   ],
   "source": [
    "ram.getSurfaceArea()"
   ]
  },
  {
   "cell_type": "code",
   "execution_count": null,
   "metadata": {},
   "outputs": [],
   "source": []
  }
 ],
 "metadata": {
  "kernelspec": {
   "display_name": "Python 3",
   "language": "python",
   "name": "python3"
  },
  "language_info": {
   "codemirror_mode": {
    "name": "ipython",
    "version": 3
   },
   "file_extension": ".py",
   "mimetype": "text/x-python",
   "name": "python",
   "nbconvert_exporter": "python",
   "pygments_lexer": "ipython3",
   "version": "3.7.1"
  }
 },
 "nbformat": 4,
 "nbformat_minor": 2
}
